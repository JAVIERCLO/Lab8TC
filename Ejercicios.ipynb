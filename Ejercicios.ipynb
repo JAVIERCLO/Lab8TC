{
 "cells": [
  {
   "cell_type": "code",
   "execution_count": 23,
   "id": "cd3343cf",
   "metadata": {},
   "outputs": [],
   "source": [
    "import timeit\n",
    "import matplotlib.pyplot as plt\n",
    "import pandas as pd"
   ]
  },
  {
   "cell_type": "markdown",
   "id": "aa316ada",
   "metadata": {},
   "source": [
    "## Ejercicio 1"
   ]
  },
  {
   "cell_type": "markdown",
   "id": "fd4814bc",
   "metadata": {},
   "source": [
    "Utilizar un profiler para medir el tiempo de ejecución con los siguientes valores de n: 1, 10, 100, 1000, 10000, 100000, 1000000. Presentar los resultados en: Una tabla con tamaño de input vs tiempo y una gráfica de tamaño de input vs tiempo."
   ]
  },
  {
   "cell_type": "code",
   "execution_count": 52,
   "id": "663a857d",
   "metadata": {},
   "outputs": [
    {
     "name": "stdout",
     "output_type": "stream",
     "text": [
      "El tiempo de ejecución es de 0.20023435354232788 microsegundos.\n"
     ]
    }
   ],
   "source": [
    "def function(n):\n",
    "    n = 1000000\n",
    "    i = j = k = counter = 0\n",
    "    for i in range(n // 2, n + 1):\n",
    "        for j in range(1, j + n // 2 +1):\n",
    "            for k in range(1, n + 1, k*2):\n",
    "                counter += 1\n",
    "    return counter\n",
    "\n",
    "tiempo_segundos = timeit.timeit('function', setup = 'from __main__ import function', number = 1)\n",
    "tiempo_microSegundos = tiempo_segundos * 1000000\n",
    "\n",
    "print(f\"El tiempo de ejecución es de {tiempo_microSegundos} microsegundos.\")\n"
   ]
  },
  {
   "cell_type": "markdown",
   "id": "ed44753f",
   "metadata": {},
   "source": [
    "## Ejercicio 2"
   ]
  },
  {
   "cell_type": "markdown",
   "id": "81f606cf",
   "metadata": {},
   "source": [
    "Utilizar un profiler para medir el tiempo de ejecución con los siguientes valores de n: 1, 10, 100, 1000, 10000, 100000, 1000000. Presentar los resultados en: Una tabla con tamaño de input vs tiempo y una gráfica de tamaño de input vs tiempo."
   ]
  },
  {
   "cell_type": "code",
   "execution_count": null,
   "id": "c2cf3497",
   "metadata": {},
   "outputs": [
    {
     "name": "stdout",
     "output_type": "stream",
     "text": [
      "El tiempo de ejecución es de 0.19976869225502014 microsegundos.\n"
     ]
    }
   ],
   "source": [
    "\n"
   ]
  },
  {
   "cell_type": "markdown",
   "id": "d15bfce5",
   "metadata": {},
   "source": [
    "## Ejercicio 3"
   ]
  },
  {
   "cell_type": "markdown",
   "id": "d0054a99",
   "metadata": {},
   "source": [
    "Utilizar un profiler para medir el tiempo de ejecución con los siguientes valores de n: 1, 10, 100, 1000, 10000, 100000, 1000000. Presentar los resultados en: Una tabla con tamaño de input vs tiempo y una gráfica de tamaño de input vs tiempo."
   ]
  },
  {
   "cell_type": "code",
   "execution_count": 47,
   "id": "a982ba27",
   "metadata": {},
   "outputs": [
    {
     "name": "stdout",
     "output_type": "stream",
     "text": [
      "El tiempo de ejecución es de 0.20023435354232788 microsegundos.\n"
     ]
    }
   ],
   "source": [
    "def function(n):\n",
    "    n = 1000000\n",
    "    for i in range(1, n // 3 + 1):\n",
    "        for j in range(1, n + 1, 4 ):\n",
    "            print(\"Sequence \\n\")\n",
    "    \n",
    "\n",
    "tiempo_segundos = timeit.timeit('function', setup = 'from __main__ import function', number = 1)\n",
    "tiempo_microSegundos = tiempo_segundos * 1000000\n",
    "\n",
    "print(f\"El tiempo de ejecución es de {tiempo_microSegundos} microsegundos.\")\n"
   ]
  }
 ],
 "metadata": {
  "kernelspec": {
   "display_name": "Python 3",
   "language": "python",
   "name": "python3"
  },
  "language_info": {
   "codemirror_mode": {
    "name": "ipython",
    "version": 3
   },
   "file_extension": ".py",
   "mimetype": "text/x-python",
   "name": "python",
   "nbconvert_exporter": "python",
   "pygments_lexer": "ipython3",
   "version": "3.12.4"
  }
 },
 "nbformat": 4,
 "nbformat_minor": 5
}
